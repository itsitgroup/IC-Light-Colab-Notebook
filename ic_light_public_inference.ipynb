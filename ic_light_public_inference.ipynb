{
  "cells": [
    {
      "cell_type": "code",
      "execution_count": null,
      "metadata": {
        "colab": {
          "base_uri": "https://localhost:8080/"
        },
        "id": "Ru73pJ7Iv1c7",
        "outputId": "e50bbc0f-10ea-4325-f285-05a84f220dac"
      },
      "outputs": [],
      "source": [
        "!git clone https://github.com/itsitgroup/IC-Light-Colab-Notebook.git\n",
        "%cd IC-Light"
      ]
    },
    {
      "cell_type": "code",
      "execution_count": null,
      "metadata": {
        "colab": {
          "base_uri": "https://localhost:8080/",
          "height": 1000
        },
        "id": "-Qtkt-Dhv9Kv",
        "outputId": "67c37e92-1f35-454e-ebbf-79aa89bd000c"
      },
      "outputs": [],
      "source": [
        "!pip install torch torchvision --index-url https://download.pytorch.org/whl/cu121\n",
        "!pip install -r requirements.txt"
      ]
    },
    {
      "cell_type": "markdown",
      "metadata": {},
      "source": [
        "The Colab will restart at this point, but don't worry continue running the following code"
      ]
    },
    {
      "cell_type": "code",
      "execution_count": null,
      "metadata": {
        "colab": {
          "base_uri": "https://localhost:8080/"
        },
        "id": "rNh92dhVwuP_",
        "outputId": "81815881-f3ac-4a2f-dc8c-b03b79b6d7ea"
      },
      "outputs": [
        {
          "name": "stdout",
          "output_type": "stream",
          "text": [
            "/content/IC-Light\n"
          ]
        }
      ],
      "source": [
        "%cd IC-Light-Colab-Notebook"
      ]
    },
    {
      "cell_type": "code",
      "execution_count": null,
      "metadata": {
        "colab": {
          "base_uri": "https://localhost:8080/"
        },
        "id": "c1jJF30bwMf9",
        "outputId": "0ded56d7-ea85-4ac1-b1eb-9d38a7d116ed"
      },
      "outputs": [],
      "source": [
        "!python gradio_demo_bg.py"
      ]
    }
  ],
  "metadata": {
    "accelerator": "GPU",
    "colab": {
      "gpuType": "L4",
      "provenance": []
    },
    "kernelspec": {
      "display_name": "Python 3",
      "name": "python3"
    },
    "language_info": {
      "name": "python"
    }
  },
  "nbformat": 4,
  "nbformat_minor": 0
}
